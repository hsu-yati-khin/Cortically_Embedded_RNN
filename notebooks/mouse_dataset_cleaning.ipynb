{
 "cells": [
  {
   "cell_type": "markdown",
   "id": "b1ad3f18",
   "metadata": {},
   "source": [
    "# Mouse Dataset Cleaning (MERFISH - CCFv3 Isocortex)"
   ]
  },
  {
   "cell_type": "markdown",
   "id": "e3b9a919",
   "metadata": {},
   "source": [
    "This notebook documents the data cleaning process for the mouse spatial transcriptomics dataset, focusing on cells within isocortical areas. The dataset is aligned to the Common Coordinate Framework version 3 (CCFv3), allowing each cell to be assigned anatomical coordinates within the mouse brain.\n",
    "\n",
    "I reference the **Allen Institute's tutorial** for MERFISH data registration to CCFv3:\n",
    "\n",
    "📘 **CCFv3 Registration Tutorial:**  \n",
    "[Allen Institute GitHub - MERFISH CCF Registration](https://github.com/AllenInstitute/abc_atlas_access/blob/main/notebooks/merfish_ccf_registration_tutorial.ipynb)\n",
    "\n",
    "This tutorial details how to:\n",
    "\n",
    "- Register MERFISH transcriptomic data to CCFv3\n",
    "- Assign anatomical parcellations to individual cells\n",
    "- Extract spatial coordinates for downstream analysis\n",
    "\n",
    "🧠 **Dataset Access:**  \n",
    "The full dataset, including each cell’s transcriptomic profile, anatomical parcellation, and spatial coordinates, can be accessed from the Allen Brain Cell Atlas S3 bucket:\n",
    "\n",
    "📂 [MERFISH-C57BL6J-638850-CCF Dataset – 2023-06-30](https://allen-brain-cell-atlas.s3.us-west-2.amazonaws.com/index.html#metadata/MERFISH-C57BL6J-638850-CCF/20230630/views/)\n",
    "\n",
    "---\n",
    "\n",
    "This cleaned dataset, including both the transcriptomic and spatial information, was used as a reference for my project’s preprocessing and integration pipeline.\n"
   ]
  },
  {
   "cell_type": "code",
   "execution_count": 1,
   "id": "551f6d80",
   "metadata": {},
   "outputs": [],
   "source": [
    "import os\n",
    "import numpy as np\n",
    "import pandas as pd\n",
    "from scipy.spatial.distance import pdist, squareform\n"
   ]
  },
  {
   "cell_type": "code",
   "execution_count": 2,
   "id": "75807a98",
   "metadata": {},
   "outputs": [
    {
     "name": "stderr",
     "output_type": "stream",
     "text": [
      "/var/folders/bq/fn19tcxj1_d6sj4lrr5ntqtr0000gn/T/ipykernel_12691/2478307755.py:7: DtypeWarning: Columns (0) have mixed types. Specify dtype option on import or set low_memory=False.\n",
      "  df = pd.read_csv(file_path)\n"
     ]
    },
    {
     "name": "stdout",
     "output_type": "stream",
     "text": [
      "Index(['cell_label', 'brain_section_label', 'cluster_alias',\n",
      "       'average_correlation_score', 'matrix_label', 'donor_label',\n",
      "       'low_quality_mapping', 'donor_genotype', 'donor_sex', 'x_section',\n",
      "       'y_section', 'z_section', 'neurotransmitter', 'division', 'class',\n",
      "       'subclass', 'supertype', 'cluster', 'neurotransmitter_color',\n",
      "       'division_color', 'class_color', 'subclass_color', 'supertype_color',\n",
      "       'cluster_color', 'x_reconstructed', 'y_reconstructed',\n",
      "       'z_reconstructed', 'parcellation_index', 'x_ccf', 'y_ccf', 'z_ccf',\n",
      "       'parcellation_organ', 'parcellation_category', 'parcellation_division',\n",
      "       'parcellation_structure', 'parcellation_substructure',\n",
      "       'parcellation_organ_color', 'parcellation_category_color',\n",
      "       'parcellation_division_color', 'parcellation_structure_color',\n",
      "       'parcellation_substructure_color'],\n",
      "      dtype='object')\n",
      "Filtered rows saved to: ../src/data/mouse_isocortex_rows.csv\n"
     ]
    }
   ],
   "source": [
    "# Define the data path\n",
    "data_path = '../src/data'\n",
    "\n",
    "file_path = os.path.join(data_path, \"cell_metadata_with_parcellation_annotation.csv\")\n",
    "\n",
    "# Load the CSV file\n",
    "df = pd.read_csv(file_path)\n",
    "print(df.columns)\n",
    "\n",
    "# Filter rows containing 'isocortex' in any column\n",
    "iso_rows = df[df.apply(lambda row: row.astype(str).str.contains('isocortex', case=False, na=False).any(), axis=1)]\n",
    "\n",
    "# Save filtered rows to a new CSV file\n",
    "output_file = os.path.join(data_path, \"mouse_isocortex_rows.csv\")\n",
    "iso_rows.to_csv(output_file, index=False)\n",
    "\n",
    "print(f\"Filtered rows saved to: {output_file}\")"
   ]
  },
  {
   "cell_type": "code",
   "execution_count": 3,
   "id": "9776f297",
   "metadata": {},
   "outputs": [
    {
     "name": "stdout",
     "output_type": "stream",
     "text": [
      "Isocortex rows shape: (929222, 41)\n"
     ]
    }
   ],
   "source": [
    "# Shape of the filtered isocortex rows\n",
    "print(\"Isocortex rows shape:\", iso_rows.shape)"
   ]
  },
  {
   "cell_type": "code",
   "execution_count": 4,
   "id": "7df9430a",
   "metadata": {},
   "outputs": [
    {
     "name": "stdout",
     "output_type": "stream",
     "text": [
      "<class 'pandas.core.frame.DataFrame'>\n",
      "Index: 929222 entries, 740742 to 3663794\n",
      "Data columns (total 41 columns):\n",
      " #   Column                           Non-Null Count   Dtype  \n",
      "---  ------                           --------------   -----  \n",
      " 0   cell_label                       929222 non-null  object \n",
      " 1   brain_section_label              929222 non-null  object \n",
      " 2   cluster_alias                    929222 non-null  int64  \n",
      " 3   average_correlation_score        929222 non-null  float64\n",
      " 4   matrix_label                     929222 non-null  object \n",
      " 5   donor_label                      929222 non-null  object \n",
      " 6   low_quality_mapping              929222 non-null  bool   \n",
      " 7   donor_genotype                   929222 non-null  object \n",
      " 8   donor_sex                        929222 non-null  object \n",
      " 9   x_section                        929222 non-null  float64\n",
      " 10  y_section                        929222 non-null  float64\n",
      " 11  z_section                        929222 non-null  float64\n",
      " 12  neurotransmitter                 658040 non-null  object \n",
      " 13  division                         929222 non-null  object \n",
      " 14  class                            929222 non-null  object \n",
      " 15  subclass                         929222 non-null  object \n",
      " 16  supertype                        929222 non-null  object \n",
      " 17  cluster                          929222 non-null  object \n",
      " 18  neurotransmitter_color           929222 non-null  object \n",
      " 19  division_color                   929222 non-null  object \n",
      " 20  class_color                      929222 non-null  object \n",
      " 21  subclass_color                   929222 non-null  object \n",
      " 22  supertype_color                  929222 non-null  object \n",
      " 23  cluster_color                    929222 non-null  object \n",
      " 24  x_reconstructed                  929222 non-null  float64\n",
      " 25  y_reconstructed                  929222 non-null  float64\n",
      " 26  z_reconstructed                  929222 non-null  float64\n",
      " 27  parcellation_index               929222 non-null  int64  \n",
      " 28  x_ccf                            929222 non-null  float64\n",
      " 29  y_ccf                            929222 non-null  float64\n",
      " 30  z_ccf                            929222 non-null  float64\n",
      " 31  parcellation_organ               929222 non-null  object \n",
      " 32  parcellation_category            929222 non-null  object \n",
      " 33  parcellation_division            929222 non-null  object \n",
      " 34  parcellation_structure           929222 non-null  object \n",
      " 35  parcellation_substructure        929222 non-null  object \n",
      " 36  parcellation_organ_color         929222 non-null  object \n",
      " 37  parcellation_category_color      929222 non-null  object \n",
      " 38  parcellation_division_color      929222 non-null  object \n",
      " 39  parcellation_structure_color     929222 non-null  object \n",
      " 40  parcellation_substructure_color  929222 non-null  object \n",
      "dtypes: bool(1), float64(10), int64(2), object(28)\n",
      "memory usage: 291.6+ MB\n",
      "None\n"
     ]
    }
   ],
   "source": [
    "print(iso_rows.info())"
   ]
  },
  {
   "cell_type": "code",
   "execution_count": 5,
   "id": "e739f8fe",
   "metadata": {},
   "outputs": [
    {
     "name": "stderr",
     "output_type": "stream",
     "text": [
      "/var/folders/bq/fn19tcxj1_d6sj4lrr5ntqtr0000gn/T/ipykernel_12691/1583417425.py:9: DtypeWarning: Columns (0) have mixed types. Specify dtype option on import or set low_memory=False.\n",
      "  df = pd.read_csv(input_file)\n"
     ]
    },
    {
     "name": "stdout",
     "output_type": "stream",
     "text": [
      "Final filtered data saved to: ../src/data/mouse_ccf_isocortex_data.csv\n"
     ]
    }
   ],
   "source": [
    "import os\n",
    "import pandas as pd\n",
    "\n",
    "# Define the data path\n",
    "data_path = '../src/data'\n",
    "\n",
    "# Load the previously filtered isocortex rows\n",
    "input_file = os.path.join(data_path, \"mouse_isocortex_rows.csv\")\n",
    "df = pd.read_csv(input_file)\n",
    "\n",
    "# Specify the columns to keep\n",
    "cols_to_keep = [\n",
    "    'x_ccf', 'y_ccf', 'z_ccf',\n",
    "    'parcellation_division', 'parcellation_structure', 'parcellation_substructure',\n",
    "    'parcellation_category', 'parcellation_index',\n",
    "    'cell_label', 'brain_section_label',\n",
    "    'parcellation_structure_color', 'parcellation_substructure_color'\n",
    "]\n",
    "\n",
    "# Apply additional filtering\n",
    "df_filtered = df[\n",
    "    (df['parcellation_division'].str.contains('Isocortex', case=False, na=False)) &\n",
    "    (df['parcellation_category'].isin(['grey'])) &\n",
    "    (~df['parcellation_structure'].str.contains(r'-unassigned$', regex=True, na=False))\n",
    "][cols_to_keep]\n",
    "\n",
    "# Save the final filtered DataFrame\n",
    "output_path = os.path.join(data_path, \"mouse_ccf_isocortex_data.csv\")\n",
    "df_filtered.to_csv(output_path, index=False)\n",
    "\n",
    "print(f\"Final filtered data saved to: {output_path}\")\n"
   ]
  },
  {
   "cell_type": "code",
   "execution_count": 7,
   "id": "95c2bc0e",
   "metadata": {},
   "outputs": [
    {
     "name": "stderr",
     "output_type": "stream",
     "text": [
      "/var/folders/bq/fn19tcxj1_d6sj4lrr5ntqtr0000gn/T/ipykernel_12691/1601983155.py:10: DtypeWarning: Columns (8) have mixed types. Specify dtype option on import or set low_memory=False.\n",
      "  df_filtered = pd.read_csv(input_path)\n"
     ]
    },
    {
     "name": "stdout",
     "output_type": "stream",
     "text": [
      "Total number of rows: 929222\n",
      "Distance matrix saved to: ../src/data/mouse_ccf_isocortex_distance_matrix_sampled_43_no_first_row_col.npy\n"
     ]
    }
   ],
   "source": [
    "import os\n",
    "import pandas as pd\n",
    "from scipy.spatial.distance import pdist, squareform\n",
    "\n",
    "# Define the data path\n",
    "data_path = '../src/data'\n",
    "\n",
    "# Load the filtered isocortex data\n",
    "input_path = os.path.join(data_path, \"mouse_ccf_isocortex_data.csv\")\n",
    "df_filtered = pd.read_csv(input_path)\n",
    "\n",
    "# OPTIONAL: Check how many rows you have\n",
    "print(\"Total number of rows:\", len(df_filtered))\n",
    "\n",
    "# Sample a subset to avoid memory crash (adjust n as needed)\n",
    "sample_size = 43  # You can try 5000 or 2000 if your system can handle it\n",
    "df_sampled = df_filtered.sample(n=sample_size, random_state=42)\n",
    "\n",
    "# Extract 3D CCF coordinates\n",
    "ccf_coords = df_sampled[['x_ccf', 'y_ccf', 'z_ccf']]\n",
    "\n",
    "# Compute pairwise Euclidean distances\n",
    "distance_matrix = squareform(pdist(ccf_coords, metric='euclidean'))\n",
    "\n",
    "# Convert to DataFrame\n",
    "distance_df = pd.DataFrame(distance_matrix)\n",
    "\n",
    "# Drop the first row and first column\n",
    "# distance_df_dropped = distance_df.iloc[1:, 1:]\n",
    "\n",
    "# Convert to NumPy array\n",
    "distance_array = distance_df.to_numpy()\n",
    "\n",
    "# Save as .npy file\n",
    "output_filename = f\"mouse_ccf_isocortex_distance_matrix_sampled_{sample_size}_no_first_row_col.npy\"\n",
    "distance_output_path = os.path.join(data_path, output_filename)\n",
    "np.save(distance_output_path, distance_array)\n",
    "\n",
    "print(\"Distance matrix saved to:\", distance_output_path)"
   ]
  },
  {
   "cell_type": "code",
   "execution_count": 8,
   "id": "50caeed2",
   "metadata": {},
   "outputs": [
    {
     "name": "stdout",
     "output_type": "stream",
     "text": [
      "Isocortex rows shape: (929222, 12)\n"
     ]
    }
   ],
   "source": [
    "# Shape of the filtered isocortex rows\n",
    "print(\"Isocortex rows shape:\", df_filtered.shape)"
   ]
  },
  {
   "cell_type": "code",
   "execution_count": 9,
   "id": "d7ae05bf",
   "metadata": {},
   "outputs": [
    {
     "name": "stdout",
     "output_type": "stream",
     "text": [
      "parcellation_structure\n",
      "MOs        90193\n",
      "MOp        83302\n",
      "SSs        66149\n",
      "VISp       61670\n",
      "SSp-m      55780\n",
      "SSp-bfd    55098\n",
      "RSPv       40045\n",
      "SSp-ul     29616\n",
      "ACAv       27491\n",
      "RSPd       27019\n",
      "ACAd       25267\n",
      "TEa        23659\n",
      "SSp-n      23295\n",
      "AId        22450\n",
      "ORBl       21366\n",
      "SSp-ll     19377\n",
      "RSPagl     18398\n",
      "PL         18197\n",
      "AUDp       15556\n",
      "ORBvl      14968\n",
      "AUDv       13150\n",
      "VISa       13069\n",
      "VISC       12637\n",
      "ORBm       11590\n",
      "GU         11215\n",
      "AIp        11181\n",
      "VISl       11015\n",
      "ECT        10456\n",
      "AIv         9309\n",
      "SSp-un      9140\n",
      "VISam       8660\n",
      "AUDd        8228\n",
      "SSp-tr      8152\n",
      "VISpor      8026\n",
      "VISrl       7499\n",
      "ILA         7049\n",
      "VISpm       6226\n",
      "VISpl       5256\n",
      "VISli       4429\n",
      "AUDpo       4120\n",
      "VISal       3771\n",
      "PERI        3583\n",
      "FRP         2565\n",
      "Name: count, dtype: int64\n"
     ]
    }
   ],
   "source": [
    "# Count unique values in parcellation_structure\n",
    "structure_counts = df_filtered['parcellation_structure'].value_counts()\n",
    "print(structure_counts)"
   ]
  },
  {
   "cell_type": "code",
   "execution_count": 10,
   "id": "e5d628c5",
   "metadata": {},
   "outputs": [
    {
     "name": "stdout",
     "output_type": "stream",
     "text": [
      "43\n"
     ]
    }
   ],
   "source": [
    "print(df_filtered['parcellation_structure'].nunique())"
   ]
  },
  {
   "cell_type": "code",
   "execution_count": 11,
   "id": "0293ea6c",
   "metadata": {},
   "outputs": [
    {
     "name": "stdout",
     "output_type": "stream",
     "text": [
      "['VISpl' 'VISpor' 'VISp' 'RSPagl' 'RSPd' 'VISl' 'PERI' 'VISli' 'ECT' 'TEa'\n",
      " 'VISpm' 'RSPv' 'AUDv' 'AUDpo' 'AUDp' 'VISal' 'VISrl' 'AUDd' 'SSs' 'VISam'\n",
      " 'SSp-bfd' 'VISa' 'VISC' 'AIp' 'SSp-tr' 'SSp-un' 'SSp-ul' 'SSp-n' 'SSp-ll'\n",
      " 'MOs' 'MOp' 'ACAv' 'ACAd' 'GU' 'SSp-m' 'AIv' 'AId' 'ORBl' 'ILA' 'PL'\n",
      " 'ORBvl' 'ORBm' 'FRP']\n"
     ]
    }
   ],
   "source": [
    "unique_structures = df_filtered['parcellation_structure'].unique()\n",
    "print(unique_structures)"
   ]
  },
  {
   "cell_type": "code",
   "execution_count": 12,
   "id": "41131d8a",
   "metadata": {},
   "outputs": [
    {
     "name": "stdout",
     "output_type": "stream",
     "text": [
      "43\n"
     ]
    }
   ],
   "source": [
    "print(len(unique_structures))"
   ]
  }
 ],
 "metadata": {
  "kernelspec": {
   "display_name": "Python 3",
   "language": "python",
   "name": "python3"
  },
  "language_info": {
   "codemirror_mode": {
    "name": "ipython",
    "version": 3
   },
   "file_extension": ".py",
   "mimetype": "text/x-python",
   "name": "python",
   "nbconvert_exporter": "python",
   "pygments_lexer": "ipython3",
   "version": "3.9.6"
  }
 },
 "nbformat": 4,
 "nbformat_minor": 5
}
