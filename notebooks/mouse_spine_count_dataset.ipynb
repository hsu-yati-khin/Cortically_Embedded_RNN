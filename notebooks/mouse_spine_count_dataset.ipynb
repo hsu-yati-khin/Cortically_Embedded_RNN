{
 "cells": [
  {
   "cell_type": "markdown",
   "id": "78542e51",
   "metadata": {},
   "source": [
    "# Setting up the Mouse Spine Count to 1s Vectors (Flattened)"
   ]
  },
  {
   "cell_type": "code",
   "execution_count": 1,
   "id": "acc1e616",
   "metadata": {},
   "outputs": [
    {
     "name": "stdout",
     "output_type": "stream",
     "text": [
      "Number of areas: 43\n"
     ]
    }
   ],
   "source": [
    "# Load mouse area names\n",
    "with open('../src/data/mouse_area_names.txt', 'r') as f:\n",
    "    mouse_areas = [line.strip() for line in f.readlines()]\n",
    "\n",
    "print(f\"Number of areas: {len(mouse_areas)}\")  # Should be 43\n"
   ]
  },
  {
   "cell_type": "code",
   "execution_count": 2,
   "id": "e94adf4c",
   "metadata": {},
   "outputs": [],
   "source": [
    "import numpy as np\n",
    "from scipy.io import savemat\n",
    "\n",
    "# 43 areas\n",
    "mouse_spine_counts = np.ones((43, 1), dtype=np.float32)  # column vector\n",
    "\n",
    "# Save as .mat with the correct variable name\n",
    "savemat('../src/data/mouse_spine_counts.mat', {'mouse_spine_counts': mouse_spine_counts})\n"
   ]
  },
  {
   "cell_type": "code",
   "execution_count": 3,
   "id": "8a853617",
   "metadata": {},
   "outputs": [
    {
     "name": "stdout",
     "output_type": "stream",
     "text": [
      "dict_keys(['__header__', '__version__', '__globals__', 'mouse_spine_counts'])\n"
     ]
    }
   ],
   "source": [
    "from scipy.io import loadmat\n",
    "\n",
    "data = loadmat('../src/data/mouse_spine_counts.mat')\n",
    "print(data.keys())"
   ]
  }
 ],
 "metadata": {
  "kernelspec": {
   "display_name": "Python 3",
   "language": "python",
   "name": "python3"
  },
  "language_info": {
   "codemirror_mode": {
    "name": "ipython",
    "version": 3
   },
   "file_extension": ".py",
   "mimetype": "text/x-python",
   "name": "python",
   "nbconvert_exporter": "python",
   "pygments_lexer": "ipython3",
   "version": "3.9.6"
  }
 },
 "nbformat": 4,
 "nbformat_minor": 5
}
